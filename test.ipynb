{
 "cells": [
  {
   "cell_type": "code",
   "execution_count": 130,
   "metadata": {
    "pycharm": {
     "name": "#%%\n"
    }
   },
   "outputs": [],
   "source": [
    "import numpy as np\n",
    "import torch\n",
    "import torch.nn.functional as F\n",
    "\n",
    "from dataset import get_twit_company_dataloaders, get_twit_sentiment_dataloaders, \\\n",
    "    get_twit_company_sentiment_dataloaders, one_hot_company, one_hot_sentiment\n",
    "from model import LSTMTwitClassifier\n",
    "\n",
    "# text, label = next(iter(dataloader_train))"
   ]
  },
  {
   "cell_type": "code",
   "execution_count": 119,
   "metadata": {
    "pycharm": {
     "name": "#%%\n"
    }
   },
   "outputs": [
    {
     "name": "stdout",
     "output_type": "stream",
     "text": [
      "Tweet ignored due to unreadability: Поиск от \n",
      "Tweet ignored due to unreadability: Новите \n",
      "Tweet ignored due to unreadability: 看見 \n",
      "Tweet ignored due to unreadability: نظام جديد .. و جهاز جديد شكراً جزيلاً \n",
      "Tweet ignored due to unreadability: الجهاز الجديد عجيب   \n",
      "Tweet ignored due to unreadability: يبدو ان طفرة الاجهزة الالكترونية القادمة ستكون بقيادة موتورولا ،، لاسيم بعد استحواذ قوقل عليها.   \n",
      "Tweet ignored due to unreadability: Με συγχισες \n",
      "Tweet ignored due to unreadability: На сайте \n",
      "Tweet ignored due to unreadability: Настоящий твиттерянин как только попадает в толпу стремиться тут же как можно быстрее попасть в \n",
      "Tweet ignored due to unreadability: Доброе утро \n",
      "Tweet ignored due to unreadability: 【\n",
      "Tweet ignored due to unreadability: رقم الفلو والفلورز والتويتات  للبيع لاعلى سعر \n"
     ]
    },
    {
     "name": "stderr",
     "output_type": "stream",
     "text": [
      "[nltk_data] Downloading package stopwords to\n",
      "[nltk_data]     C:\\Users\\ars86\\AppData\\Roaming\\nltk_data...\n",
      "[nltk_data]   Package stopwords is already up-to-date!\n"
     ]
    },
    {
     "name": "stdout",
     "output_type": "stream",
     "text": [
      "Tweet ignored due to unreadability: قال الرئيس التنفيذي لشركة \n",
      "Tweet ignored due to unreadability: Улучшим продукты компании \n",
      "Tweet ignored due to unreadability: نفسي يوم يعدي علي تويتر من غير مشاكل فنية \n",
      "Tweet ignored due to unreadability: ツイッター検索 \n"
     ]
    },
    {
     "name": "stderr",
     "output_type": "stream",
     "text": [
      "[nltk_data] Downloading package stopwords to\n",
      "[nltk_data]     C:\\Users\\ars86\\AppData\\Roaming\\nltk_data...\n",
      "[nltk_data]   Package stopwords is already up-to-date!\n"
     ]
    },
    {
     "name": "stdout",
     "output_type": "stream",
     "text": [
      "Testing on test loading model\n",
      "Iter: 0/332\n",
      "Iter: 100/332\n",
      "Iter: 200/332\n",
      "Iter: 300/332\n",
      "Accuracy 0.7168674698795181\n"
     ]
    }
   ],
   "source": [
    "device = \"cuda\"\n",
    "use_wandb = True\n",
    "\n",
    "lr = 0.001\n",
    "embedding_size = 100\n",
    "hidden_size = 100\n",
    "epochs_cnt = 100\n",
    "embeddings = \"random\"\n",
    "lstm_layers = 1\n",
    "dropout = 0.8\n",
    "task = \"text2sentiment\"  #\n",
    "use_company_info = True\n",
    "preprocessing = \"tutorial\"\n",
    "use_stop_words = True\n",
    "weight = [5, 3.5, 1, 1.5]  # [0.4, 0.4, 0.1, 0.1] # None\n",
    "\n",
    "# remove x sometimes (because cool archirecture (; )\n",
    "save_file = f\"{epochs_cnt}epochs_{task}_{preprocessing}{f'_use_company' if use_company_info and task == 'text2sentiment' else ''}{'_'.join(map(str, weight)) + '_weight' if weight is not None else ''}\"\n",
    "\n",
    "get_dataloaders = get_twit_company_dataloaders if task == \"text2company\" else\n",
    "    get_twit_sentiment_dataloaders if not use_company_info else get_twit_company_sentiment_dataloaders\n",
    "\n",
    "dataset_train, dataloader_train, dataset_test, dataloader_test = get_dataloaders(embedding_dim=embedding_size,\n",
    "                                                                                 embedding=embeddings,\n",
    "                                                                                 preprocessing=preprocessing,\n",
    "                                                                                 use_stop_words=use_stop_words)\n",
    "\n",
    "model = LSTMTwitClassifier(4, embedding_dim=embedding_size, hidden_dim=hidden_size, dropout=dropout,\n",
    "                           lstm_layers=lstm_layers,\n",
    "                           additional_one_hot_arg=use_company_info and task == \"text2sentiment\")\n",
    "model.to(device)\n",
    "\n",
    "model.load_state_dict(torch.load(f\"learned_models/{save_file}_best_test.pt\"))\n",
    "model.eval()\n",
    "\n",
    "print(\"Testing on test loading model\")\n",
    "\n",
    "correct = 0\n",
    "predictions_cnt = [0, 0, 0, 0]\n",
    "correct_cnt = [0, 0, 0, 0]\n",
    "\n",
    "matrix = np.zeros([4, 4])\n",
    "\n",
    "with torch.no_grad():\n",
    "    for i, (*args, target) in enumerate(dataloader_test):\n",
    "        args = [arg.to(device) for arg in args]\n",
    "        target = target.to(device)\n",
    "\n",
    "        prediction = model(*args)\n",
    "        prediction = F.softmax(prediction, dim=0)\n",
    "\n",
    "        if torch.argmax(prediction) == torch.argmax(target):\n",
    "            correct += 1\n",
    "\n",
    "        predictions_cnt[torch.argmax(prediction)] += 1\n",
    "        correct_cnt[torch.argmax(target)] += 1\n",
    "        matrix[torch.argmax(prediction)][torch.argmax(target)] += 1\n",
    "\n",
    "        if i % 100 == 0:\n",
    "            print(f\"Iter: {i}/{len(dataloader_test)}\")\n",
    "\n",
    "print(f\"Accuracy {correct / len(dataloader_test)}\")"
   ]
  },
  {
   "cell_type": "code",
   "execution_count": 120,
   "metadata": {
    "pycharm": {
     "name": "#%%\n"
    }
   },
   "outputs": [
    {
     "name": "stdout",
     "output_type": "stream",
     "text": [
      "positive: precision=0.6, recall=0.5806451612903226\n",
      "negative: precision=0.75, recall=0.30612244897959184\n",
      "neutral: precision=0.6972972972972973, recall=0.8486842105263158\n",
      "irrelevant: precision=0.7835051546391752, recall=0.76\n"
     ]
    },
    {
     "data": {
      "text/plain": "<Figure size 432x288 with 1 Axes>",
      "image/png": "[encoded data removed]"
     },
     "metadata": {
      "needs_background": "light"
     },
     "output_type": "display_data"
    }
   ],
   "source": [
    "import itertools\n",
    "from matplotlib import pyplot as plt\n",
    "\n",
    "companies = ['apple', 'google', 'microsoft', 'twitter']\n",
    "sentiments = ['positive', 'negative', 'neutral', 'irrelevant']\n",
    "\n",
    "labels = sentiments if task == \"text2sentiment\" else companies\n",
    "\n",
    "for i, label in enumerate(labels):\n",
    "    precision = matrix[i][i] / matrix.sum(1)[i]\n",
    "    recall = matrix[i][i] / matrix.sum(0)[i]\n",
    "    print(f\"{label}: precision={precision}, recall={recall}\")\n",
    "\n",
    "\n",
    "def plot_matrix(matrix):\n",
    "    plt.imshow(matrix, interpolation='nearest', cmap='summer')\n",
    "    h, w = matrix.shape\n",
    "    for i, j in itertools.product(range(h), range(w)):\n",
    "        plt.text(j, i, format(matrix[i, j], '.0f'),\n",
    "                 horizontalalignment=\"center\",\n",
    "                 color=\"black\")\n",
    "\n",
    "    plt.xticks(np.arange(len(labels)), labels)\n",
    "    plt.yticks(np.arange(len(labels)), labels)\n",
    "    plt.xlabel('Target')\n",
    "    plt.ylabel('Predicted')\n",
    "    plt.show()\n",
    "\n",
    "\n",
    "plot_matrix(matrix)"
   ]
  },
  {
   "cell_type": "code",
   "execution_count": 131,
   "metadata": {
    "pycharm": {
     "name": "#%%\n"
    }
   },
   "outputs": [],
   "source": [
    "one_hot = one_hot_company if task == \"text2company\" else one_hot_sentiment\n",
    "\n",
    "def predict(sentence, something=None):\n",
    "    sentence = dataset_test.process(sentence).to(device)\n",
    "    something = one_hot_company(something)\n",
    "    if task == \"text2company\" or not use_company_info:\n",
    "        something = None\n",
    "\n",
    "    model.eval()\n",
    "    with torch.no_grad():\n",
    "        prediction = model(sentence, torch.Tensor(something).to(device))\n",
    "        prediction = F.softmax(prediction, dim=0)\n",
    "        return labels[torch.argmax(prediction)], torch.max(prediction).cpu().item()"
   ]
  },
  {
   "cell_type": "code",
   "execution_count": 145,
   "metadata": {
    "pycharm": {
     "name": "#%%\n"
    }
   },
   "outputs": [
    {
     "data": {
      "text/plain": "('negative', 0.7547683119773865)"
     },
     "execution_count": 145,
     "metadata": {},
     "output_type": "execute_result"
    }
   ],
   "source": [
    "predict(\"iphone is bad\", \"apple\")"
   ]
  },
  {
   "cell_type": "code",
   "execution_count": 143,
   "metadata": {
    "pycharm": {
     "name": "#%%\n"
    }
   },
   "outputs": [
    {
     "data": {
      "text/plain": "('positive', 0.9478293061256409)"
     },
     "execution_count": 143,
     "metadata": {},
     "output_type": "execute_result"
    }
   ],
   "source": [
    "predict(\"I love microsоft ❤️\", \"microsoft\")"
   ]
  }
 ],
 "metadata": {
  "kernelspec": {
   "display_name": "Python 3",
   "language": "python",
   "name": "python3"
  },
  "language_info": {
   "codemirror_mode": {
    "name": "ipython",
    "version": 3
   },
   "file_extension": ".py",
   "mimetype": "text/x-python",
   "name": "python",
   "nbconvert_exporter": "python",
   "pygments_lexer": "ipython3",
   "version": "3.9.2"
  }
 },
 "nbformat": 4,
 "nbformat_minor": 1
}