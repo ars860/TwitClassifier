{
 "cells": [
  {
   "cell_type": "code",
   "execution_count": 1,
   "metadata": {
    "collapsed": true
   },
   "outputs": [],
   "source": [
    "from pathlib import Path\n",
    "\n",
    "import snowballstemmer\n",
    "\n",
    "from dataset import get_twit_company_dataloaders, TwitCompanyDataset"
   ]
  },
  {
   "cell_type": "code",
   "execution_count": 2,
   "outputs": [
    {
     "name": "stdout",
     "output_type": "stream",
     "text": [
      "http://t.co/48emAEID \n",
      "http://t.co/Izh7KaiU \n",
      "http://t.co/e5ClGzsI \n",
      "http://t.co/18xg3ivo! \n",
      "Поиск от \n",
      "サムスン電子のスマートフォン新機種「ギャラクシー・ネクサス」、グーグルの基本ソフト（ＯＳ）「アンドロイド」最新版を搭載。「クラウド」活用、音声認識やカメラの機能も向上させた戦略モデル \n",
      "Новите \n",
      "اعرف الكثير عن نظام ايسكريم ساندويتش http://t.co/Fzjd2Zx1 \n",
      "看見 \n",
      "نظام جديد .. و جهاز جديد شكراً جزيلاً \n",
      "ايسكريم ساندويش، عسل، زنجبيل .. مشكلة من كثر المسميات احسهم مسوين مقادير مب انظمة !! 😝  \n",
      "الجهاز الجديد عجيب   \n",
      "Я немного потрясен :) \n",
      "今日発表だった＾ﾛ＾　 \n",
      "يبدو ان طفرة الاجهزة الالكترونية القادمة ستكون بقيادة موتورولا ،، لاسيم بعد استحواذ قوقل عليها.   \n",
      "顔認識ロック解除失敗してる・・・デモで失敗しちゃっていいのか？ \n",
      "Με συγχισες \n",
      "デフォでデータ通信制御？　\n",
      "http://t.co/gAPEyL5N \n",
      "http://t.co/J3p3KYHf \n",
      "http://t.co/h1IH7FN6 مايكروسوفت تقوم بتطوير تقنية تمكنك من استخدام يدك كهاتف  \n",
      "http://t.co/ONI0JX8B \n",
      "http://t.co/JVidt6U4 \n",
      "На сайте \n",
      "☼ \n",
      "Настоящий твиттерянин как только попадает в толпу стремиться тут же как можно быстрее попасть в \n",
      "Доброе утро \n",
      "【\n",
      "なにやらフォロー制限に引っ掛かったようです…もっとフォロアーを増やさなくちゃ♪　\n",
      "ツイッターを利用して感謝の気持ちとともに約２０００円が振り込まれ続ける方法→ｺｺ→ http://t.co/TyjUGsnQ ←ｺｺ← :) \n",
      "رقم الفلو والفلورز والتويتات  للبيع لاعلى سعر \n"
     ]
    }
   ],
   "source": [
    "embedding_size = 300\n",
    "\n",
    "train_dataset = TwitCompanyDataset(Path() / \"dataset\" / \"Train.csv\", embedding_dim=embedding_size, embedding=\"word2vec\")\n",
    "model = train_dataset.embedding.model"
   ],
   "metadata": {
    "collapsed": false,
    "pycharm": {
     "name": "#%%\n"
    }
   }
  },
  {
   "cell_type": "code",
   "execution_count": 3,
   "outputs": [
    {
     "data": {
      "text/plain": "[('@winbetadotorg', 0.9636366963386536),\n ('@romankrd', 0.9617576003074646),\n ('@msanywher', 0.9378050565719604),\n ('verspricht', 0.9314185976982117),\n ('spigot', 0.9279844164848328),\n ('@gsmarena', 0.9245141744613647),\n ('preview', 0.9225540161132812),\n ('@fiercewireless', 0.9181964993476868),\n ('appli', 0.9145188927650452),\n ('bash', 0.9137217998504639)]"
     },
     "execution_count": 3,
     "metadata": {},
     "output_type": "execute_result"
    }
   ],
   "source": [
    "stemmer = snowballstemmer.stemmer(\"english\")\n",
    "model.wv.most_similar(stemmer.stemWord(\"microsoft\"))"
   ],
   "metadata": {
    "collapsed": false,
    "pycharm": {
     "name": "#%%\n"
    }
   }
  }
 ],
 "metadata": {
  "kernelspec": {
   "display_name": "Python 3",
   "language": "python",
   "name": "python3"
  },
  "language_info": {
   "codemirror_mode": {
    "name": "ipython",
    "version": 2
   },
   "file_extension": ".py",
   "mimetype": "text/x-python",
   "name": "python",
   "nbconvert_exporter": "python",
   "pygments_lexer": "ipython2",
   "version": "2.7.6"
  }
 },
 "nbformat": 4,
 "nbformat_minor": 0
}