{
 "cells": [
  {
   "cell_type": "code",
   "execution_count": 1,
   "metadata": {
    "collapsed": true
   },
   "outputs": [],
   "source": [
    "from pathlib import Path\n",
    "\n",
    "import snowballstemmer\n",
    "from torch.utils.data import DataLoader\n",
    "\n",
    "from dataset import get_twit_company_dataloaders, twit2company_dataset, twit_company2sentiment_dataset"
   ]
  },
  {
   "cell_type": "code",
   "execution_count": 2,
   "outputs": [
    {
     "name": "stdout",
     "output_type": "stream",
     "text": [
      "Tweet ignored due to unreadability: Поиск от \n",
      "Tweet ignored due to unreadability: Новите \n",
      "Tweet ignored due to unreadability: 看見 \n",
      "Tweet ignored due to unreadability: نظام جديد .. و جهاز جديد شكراً جزيلاً \n",
      "Tweet ignored due to unreadability: الجهاز الجديد عجيب   \n",
      "Tweet ignored due to unreadability: يبدو ان طفرة الاجهزة الالكترونية القادمة ستكون بقيادة موتورولا ،، لاسيم بعد استحواذ قوقل عليها.   \n",
      "Tweet ignored due to unreadability: Με συγχισες \n",
      "Tweet ignored due to unreadability: На сайте \n",
      "Tweet ignored due to unreadability: Настоящий твиттерянин как только попадает в толпу стремиться тут же как можно быстрее попасть в \n",
      "Tweet ignored due to unreadability: Доброе утро \n",
      "Tweet ignored due to unreadability: 【\n",
      "Tweet ignored due to unreadability: رقم الفلو والفلورز والتويتات  للبيع لاعلى سعر \n"
     ]
    }
   ],
   "source": [
    "from dataset import twit2sentiment_dataset\n",
    "\n",
    "embedding_size = 300\n",
    "\n",
    "train_dataset = twit2sentiment_dataset(dataset_path=Path() / \"dataset\" / \"Train.csv\", embedding_dim=embedding_size, embedding=\"word2vec\", preprocessing=\"tutorial\")\n",
    "model = train_dataset.embedding.model"
   ],
   "metadata": {
    "collapsed": false,
    "pycharm": {
     "name": "#%%\n"
    }
   }
  },
  {
   "cell_type": "code",
   "execution_count": 3,
   "outputs": [
    {
     "data": {
      "text/plain": "['<mention>',\n 'if',\n 'you',\n 'want',\n 'to',\n 'know',\n 'what',\n 'custom',\n 'think',\n 'dont',\n 'send',\n 'updat',\n 'with',\n 'the',\n 'norepli',\n 'return',\n 'address',\n 'who',\n 'invent',\n 'that',\n 'anyway',\n '<hashtag>']"
     },
     "execution_count": 3,
     "metadata": {},
     "output_type": "execute_result"
    }
   ],
   "source": [
    "train_dataset.preprocess(\"@apple If you want to know what customers think dont send updates with the noreply return address. Who invented that anyway. #useless\")"
   ],
   "metadata": {
    "collapsed": false,
    "pycharm": {
     "name": "#%%\n"
    }
   }
  },
  {
   "cell_type": "code",
   "execution_count": 6,
   "outputs": [
    {
     "data": {
      "text/plain": "[('see', 0.9913486838340759),\n ('sure', 0.9896761178970337),\n ('fuck', 0.9895148277282715),\n ('know', 0.9886869192123413),\n ('would', 0.9881789684295654),\n ('forget', 0.9870807528495789),\n ('still', 0.9854764938354492),\n ('wonder', 0.9838794469833374),\n ('much', 0.9830113649368286),\n ('who', 0.9822647571563721)]"
     },
     "execution_count": 6,
     "metadata": {},
     "output_type": "execute_result"
    }
   ],
   "source": [
    "stemmer = snowballstemmer.stemmer(\"english\")\n",
    "model.wv.most_similar(stemmer.stemWord(\"how\"))"
   ],
   "metadata": {
    "collapsed": false,
    "pycharm": {
     "name": "#%%\n"
    }
   }
  },
  {
   "cell_type": "code",
   "execution_count": 9,
   "outputs": [],
   "source": [
    "dataloader = DataLoader(train_dataset, batch_size=1, num_workers=1)"
   ],
   "metadata": {
    "collapsed": false,
    "pycharm": {
     "name": "#%%\n"
    }
   }
  },
  {
   "cell_type": "code",
   "execution_count": 10,
   "outputs": [
    {
     "data": {
      "text/plain": "[tensor([[[ 0.0342, -0.0560,  0.1905,  ..., -0.2325,  0.1073, -0.1095],\n          [ 0.2799,  0.0365,  0.3083,  ..., -0.0533, -0.0187, -0.1521],\n          [ 0.5929,  0.1949,  0.2495,  ...,  0.1125, -0.1819, -0.2131],\n          ...,\n          [ 0.1870, -0.3592,  0.2185,  ..., -0.2957, -0.0545, -0.1273],\n          [ 0.5959,  0.1221,  0.2167,  ...,  0.0846, -0.1179, -0.1234],\n          [ 0.2119, -0.0071,  0.2393,  ..., -0.0046,  0.0887, -0.2960]]]),\n tensor([[1., 0., 0., 0.]])]"
     },
     "execution_count": 10,
     "metadata": {},
     "output_type": "execute_result"
    }
   ],
   "source": [
    "for x in dataloader:\n",
    "    a = x\n",
    "    break\n",
    "\n",
    "a"
   ],
   "metadata": {
    "collapsed": false,
    "pycharm": {
     "name": "#%%\n"
    }
   }
  }
 ],
 "metadata": {
  "kernelspec": {
   "display_name": "Python 3",
   "language": "python",
   "name": "python3"
  },
  "language_info": {
   "codemirror_mode": {
    "name": "ipython",
    "version": 2
   },
   "file_extension": ".py",
   "mimetype": "text/x-python",
   "name": "python",
   "nbconvert_exporter": "python",
   "pygments_lexer": "ipython2",
   "version": "2.7.6"
  }
 },
 "nbformat": 4,
 "nbformat_minor": 0
}