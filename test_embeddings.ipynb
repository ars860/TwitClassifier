{
 "cells": [
  {
   "cell_type": "code",
   "execution_count": 6,
   "metadata": {
    "collapsed": true
   },
   "outputs": [],
   "source": [
    "from pathlib import Path\n",
    "\n",
    "import snowballstemmer\n",
    "from torch.utils.data import DataLoader\n",
    "\n",
    "from dataset import get_twit_company_dataloaders, twit2company_dataset, twit_company2sentiment_dataset"
   ]
  },
  {
   "cell_type": "code",
   "execution_count": 7,
   "outputs": [
    {
     "name": "stdout",
     "output_type": "stream",
     "text": [
      "Tweet ignored due to unreadability: http://t.co/48emAEID \n",
      "Tweet ignored due to unreadability: http://t.co/Izh7KaiU \n",
      "Tweet ignored due to unreadability: http://t.co/e5ClGzsI \n",
      "Tweet ignored due to unreadability: http://t.co/18xg3ivo! \n",
      "Tweet ignored due to unreadability: Поиск от \n",
      "Tweet ignored due to unreadability: サムスン電子のスマートフォン新機種「ギャラクシー・ネクサス」、グーグルの基本ソフト（ＯＳ）「アンドロイド」最新版を搭載。「クラウド」活用、音声認識やカメラの機能も向上させた戦略モデル \n",
      "Tweet ignored due to unreadability: Новите \n",
      "Tweet ignored due to unreadability: اعرف الكثير عن نظام ايسكريم ساندويتش http://t.co/Fzjd2Zx1 \n",
      "Tweet ignored due to unreadability: 看見 \n",
      "Tweet ignored due to unreadability: نظام جديد .. و جهاز جديد شكراً جزيلاً \n",
      "Tweet ignored due to unreadability: ايسكريم ساندويش، عسل، زنجبيل .. مشكلة من كثر المسميات احسهم مسوين مقادير مب انظمة !! 😝  \n",
      "Tweet ignored due to unreadability: الجهاز الجديد عجيب   \n",
      "Tweet ignored due to unreadability: Я немного потрясен :) \n",
      "Tweet ignored due to unreadability: 今日発表だった＾ﾛ＾　 \n",
      "Tweet ignored due to unreadability: يبدو ان طفرة الاجهزة الالكترونية القادمة ستكون بقيادة موتورولا ،، لاسيم بعد استحواذ قوقل عليها.   \n",
      "Tweet ignored due to unreadability: 顔認識ロック解除失敗してる・・・デモで失敗しちゃっていいのか？ \n",
      "Tweet ignored due to unreadability: Με συγχισες \n",
      "Tweet ignored due to unreadability: デフォでデータ通信制御？　\n",
      "Tweet ignored due to unreadability: http://t.co/gAPEyL5N \n",
      "Tweet ignored due to unreadability: http://t.co/J3p3KYHf \n",
      "Tweet ignored due to unreadability: http://t.co/h1IH7FN6 مايكروسوفت تقوم بتطوير تقنية تمكنك من استخدام يدك كهاتف  \n",
      "Tweet ignored due to unreadability: http://t.co/ONI0JX8B \n",
      "Tweet ignored due to unreadability: http://t.co/JVidt6U4 \n",
      "Tweet ignored due to unreadability: На сайте \n",
      "Tweet ignored due to unreadability: ☼ \n",
      "Tweet ignored due to unreadability: Настоящий твиттерянин как только попадает в толпу стремиться тут же как можно быстрее попасть в \n",
      "Tweet ignored due to unreadability: Доброе утро \n",
      "Tweet ignored due to unreadability: 【\n",
      "Tweet ignored due to unreadability: なにやらフォロー制限に引っ掛かったようです…もっとフォロアーを増やさなくちゃ♪　\n",
      "Tweet ignored due to unreadability: ツイッターを利用して感謝の気持ちとともに約２０００円が振り込まれ続ける方法→ｺｺ→ http://t.co/TyjUGsnQ ←ｺｺ← :) \n",
      "Tweet ignored due to unreadability: رقم الفلو والفلورز والتويتات  للبيع لاعلى سعر \n"
     ]
    }
   ],
   "source": [
    "from dataset import twit2sentiment_dataset\n",
    "\n",
    "embedding_size = 300\n",
    "\n",
    "train_dataset = twit2sentiment_dataset(Path() / \"dataset\" / \"Train.csv\", embedding_dim=embedding_size, embedding=\"word2vec\")\n",
    "model = train_dataset.embedding.model"
   ],
   "metadata": {
    "collapsed": false,
    "pycharm": {
     "name": "#%%\n"
    }
   }
  },
  {
   "cell_type": "code",
   "execution_count": 8,
   "outputs": [
    {
     "data": {
      "text/plain": "[('@winbetadotorg', 0.9605520963668823),\n ('@romankrd', 0.9560321569442749),\n ('@msanywher', 0.9329053163528442),\n ('verspricht', 0.9295258522033691),\n ('spigot', 0.9257345199584961),\n ('@fiercewireless', 0.918135404586792),\n ('preview', 0.9168033599853516),\n ('@gsmarena', 0.9116456508636475),\n ('offer', 0.9103374481201172),\n ('appli', 0.9096827507019043)]"
     },
     "execution_count": 8,
     "metadata": {},
     "output_type": "execute_result"
    }
   ],
   "source": [
    "stemmer = snowballstemmer.stemmer(\"english\")\n",
    "model.wv.most_similar(stemmer.stemWord(\"microsoft\"))"
   ],
   "metadata": {
    "collapsed": false,
    "pycharm": {
     "name": "#%%\n"
    }
   }
  },
  {
   "cell_type": "code",
   "execution_count": 9,
   "outputs": [],
   "source": [
    "dataloader = DataLoader(train_dataset, batch_size=1, num_workers=1)"
   ],
   "metadata": {
    "collapsed": false,
    "pycharm": {
     "name": "#%%\n"
    }
   }
  },
  {
   "cell_type": "code",
   "execution_count": 10,
   "outputs": [
    {
     "data": {
      "text/plain": "[tensor([[[ 0.0342, -0.0560,  0.1905,  ..., -0.2325,  0.1073, -0.1095],\n          [ 0.2799,  0.0365,  0.3083,  ..., -0.0533, -0.0187, -0.1521],\n          [ 0.5929,  0.1949,  0.2495,  ...,  0.1125, -0.1819, -0.2131],\n          ...,\n          [ 0.1870, -0.3592,  0.2185,  ..., -0.2957, -0.0545, -0.1273],\n          [ 0.5959,  0.1221,  0.2167,  ...,  0.0846, -0.1179, -0.1234],\n          [ 0.2119, -0.0071,  0.2393,  ..., -0.0046,  0.0887, -0.2960]]]),\n tensor([[1., 0., 0., 0.]])]"
     },
     "execution_count": 10,
     "metadata": {},
     "output_type": "execute_result"
    }
   ],
   "source": [
    "for x in dataloader:\n",
    "    a = x\n",
    "    break\n",
    "\n",
    "a"
   ],
   "metadata": {
    "collapsed": false,
    "pycharm": {
     "name": "#%%\n"
    }
   }
  }
 ],
 "metadata": {
  "kernelspec": {
   "display_name": "Python 3",
   "language": "python",
   "name": "python3"
  },
  "language_info": {
   "codemirror_mode": {
    "name": "ipython",
    "version": 2
   },
   "file_extension": ".py",
   "mimetype": "text/x-python",
   "name": "python",
   "nbconvert_exporter": "python",
   "pygments_lexer": "ipython2",
   "version": "2.7.6"
  }
 },
 "nbformat": 4,
 "nbformat_minor": 0
}